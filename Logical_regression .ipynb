{
 "cells": [
  {
   "cell_type": "markdown",
   "id": "1406bae6",
   "metadata": {},
   "source": [
    "Attribute information For bank dataset\n",
    "\n",
    "   Input variables:\n",
    "   # bank client data:\n",
    "   1 - age (numeric)\n",
    "   2 - job : type of job (categorical: \"admin.\",\"unknown\",\"unemployed\",\"management\",\"housemaid\",\"entrepreneur\",\"student\",\n",
    "                                       \"blue-collar\",\"self-employed\",\"retired\",\"technician\",\"services\") \n",
    "   3 - marital : marital status (categorical: \"married\",\"divorced\",\"single\"; note: \"divorced\" means divorced or widowed)\n",
    "   4 - education (categorical: \"unknown\",\"secondary\",\"primary\",\"tertiary\")\n",
    "   5 - default: has credit in default? (binary: \"yes\",\"no\")\n",
    "   6 - balance: average yearly balance, in euros (numeric) \n",
    "   7 - housing: has housing loan? (binary: \"yes\",\"no\")\n",
    "   8 - loan: has personal loan? (binary: \"yes\",\"no\")\n",
    "   # related with the last contact of the current campaign:\n",
    "   9 - contact: contact communication type (categorical: \"unknown\",\"telephone\",\"cellular\") \n",
    "  10 - day: last contact day of the month (numeric)\n",
    "  11 - month: last contact month of year (categorical: \"jan\", \"feb\", \"mar\", ..., \"nov\", \"dec\")\n",
    "  12 - duration: last contact duration, in seconds (numeric)\n",
    "   # other attributes:\n",
    "  13 - campaign: number of contacts performed during this campaign and for this client (numeric, includes last contact)\n",
    "  14 - pdays: number of days that passed by after the client was last contacted from a previous campaign (numeric, -1 means client was not previously contacted)\n",
    "  15 - previous: number of contacts performed before this campaign and for this client (numeric)\n",
    "  16 - poutcome: outcome of the previous marketing campaign (categorical: \"unknown\",\"other\",\"failure\",\"success\")\n",
    "\n",
    "  Output variable (desired target):\n",
    "  17 - y - has the client subscribed a term deposit? (binary: \"yes\",\"no\")\n",
    "\n",
    "18. Missing Attribute Values: None\n"
   ]
  },
  {
   "cell_type": "code",
   "execution_count": 1,
   "id": "2dd83536",
   "metadata": {},
   "outputs": [],
   "source": [
    "import pandas as pd\n",
    "import numpy as np\n",
    "import matplotlib.pyplot as plt\n",
    "import seaborn as sns\n",
    "from sklearn.model_selection import train_test_split\n",
    "from sklearn.linear_model import LogisticRegression\n",
    "from sklearn.metrics import accuracy_score\n",
    "from sklearn.metrics import confusion_matrix\n",
    "from sklearn.metrics import classification_report"
   ]
  },
  {
   "cell_type": "code",
   "execution_count": 2,
   "id": "bee4072d",
   "metadata": {
    "scrolled": true
   },
   "outputs": [
    {
     "data": {
      "text/html": [
       "<div>\n",
       "<style scoped>\n",
       "    .dataframe tbody tr th:only-of-type {\n",
       "        vertical-align: middle;\n",
       "    }\n",
       "\n",
       "    .dataframe tbody tr th {\n",
       "        vertical-align: top;\n",
       "    }\n",
       "\n",
       "    .dataframe thead th {\n",
       "        text-align: right;\n",
       "    }\n",
       "</style>\n",
       "<table border=\"1\" class=\"dataframe\">\n",
       "  <thead>\n",
       "    <tr style=\"text-align: right;\">\n",
       "      <th></th>\n",
       "      <th>age</th>\n",
       "      <th>job</th>\n",
       "      <th>marital</th>\n",
       "      <th>education</th>\n",
       "      <th>default</th>\n",
       "      <th>balance</th>\n",
       "      <th>housing</th>\n",
       "      <th>loan</th>\n",
       "      <th>contact</th>\n",
       "      <th>day</th>\n",
       "      <th>month</th>\n",
       "      <th>duration</th>\n",
       "      <th>campaign</th>\n",
       "      <th>pdays</th>\n",
       "      <th>previous</th>\n",
       "      <th>poutcome</th>\n",
       "      <th>y</th>\n",
       "    </tr>\n",
       "  </thead>\n",
       "  <tbody>\n",
       "    <tr>\n",
       "      <th>0</th>\n",
       "      <td>58</td>\n",
       "      <td>management</td>\n",
       "      <td>married</td>\n",
       "      <td>tertiary</td>\n",
       "      <td>no</td>\n",
       "      <td>2143</td>\n",
       "      <td>yes</td>\n",
       "      <td>no</td>\n",
       "      <td>unknown</td>\n",
       "      <td>5</td>\n",
       "      <td>may</td>\n",
       "      <td>261</td>\n",
       "      <td>1</td>\n",
       "      <td>-1</td>\n",
       "      <td>0</td>\n",
       "      <td>unknown</td>\n",
       "      <td>no</td>\n",
       "    </tr>\n",
       "    <tr>\n",
       "      <th>1</th>\n",
       "      <td>44</td>\n",
       "      <td>technician</td>\n",
       "      <td>single</td>\n",
       "      <td>secondary</td>\n",
       "      <td>no</td>\n",
       "      <td>29</td>\n",
       "      <td>yes</td>\n",
       "      <td>no</td>\n",
       "      <td>unknown</td>\n",
       "      <td>5</td>\n",
       "      <td>may</td>\n",
       "      <td>151</td>\n",
       "      <td>1</td>\n",
       "      <td>-1</td>\n",
       "      <td>0</td>\n",
       "      <td>unknown</td>\n",
       "      <td>no</td>\n",
       "    </tr>\n",
       "    <tr>\n",
       "      <th>2</th>\n",
       "      <td>33</td>\n",
       "      <td>entrepreneur</td>\n",
       "      <td>married</td>\n",
       "      <td>secondary</td>\n",
       "      <td>no</td>\n",
       "      <td>2</td>\n",
       "      <td>yes</td>\n",
       "      <td>yes</td>\n",
       "      <td>unknown</td>\n",
       "      <td>5</td>\n",
       "      <td>may</td>\n",
       "      <td>76</td>\n",
       "      <td>1</td>\n",
       "      <td>-1</td>\n",
       "      <td>0</td>\n",
       "      <td>unknown</td>\n",
       "      <td>no</td>\n",
       "    </tr>\n",
       "    <tr>\n",
       "      <th>3</th>\n",
       "      <td>47</td>\n",
       "      <td>blue-collar</td>\n",
       "      <td>married</td>\n",
       "      <td>unknown</td>\n",
       "      <td>no</td>\n",
       "      <td>1506</td>\n",
       "      <td>yes</td>\n",
       "      <td>no</td>\n",
       "      <td>unknown</td>\n",
       "      <td>5</td>\n",
       "      <td>may</td>\n",
       "      <td>92</td>\n",
       "      <td>1</td>\n",
       "      <td>-1</td>\n",
       "      <td>0</td>\n",
       "      <td>unknown</td>\n",
       "      <td>no</td>\n",
       "    </tr>\n",
       "    <tr>\n",
       "      <th>4</th>\n",
       "      <td>33</td>\n",
       "      <td>unknown</td>\n",
       "      <td>single</td>\n",
       "      <td>unknown</td>\n",
       "      <td>no</td>\n",
       "      <td>1</td>\n",
       "      <td>no</td>\n",
       "      <td>no</td>\n",
       "      <td>unknown</td>\n",
       "      <td>5</td>\n",
       "      <td>may</td>\n",
       "      <td>198</td>\n",
       "      <td>1</td>\n",
       "      <td>-1</td>\n",
       "      <td>0</td>\n",
       "      <td>unknown</td>\n",
       "      <td>no</td>\n",
       "    </tr>\n",
       "    <tr>\n",
       "      <th>...</th>\n",
       "      <td>...</td>\n",
       "      <td>...</td>\n",
       "      <td>...</td>\n",
       "      <td>...</td>\n",
       "      <td>...</td>\n",
       "      <td>...</td>\n",
       "      <td>...</td>\n",
       "      <td>...</td>\n",
       "      <td>...</td>\n",
       "      <td>...</td>\n",
       "      <td>...</td>\n",
       "      <td>...</td>\n",
       "      <td>...</td>\n",
       "      <td>...</td>\n",
       "      <td>...</td>\n",
       "      <td>...</td>\n",
       "      <td>...</td>\n",
       "    </tr>\n",
       "    <tr>\n",
       "      <th>45206</th>\n",
       "      <td>51</td>\n",
       "      <td>technician</td>\n",
       "      <td>married</td>\n",
       "      <td>tertiary</td>\n",
       "      <td>no</td>\n",
       "      <td>825</td>\n",
       "      <td>no</td>\n",
       "      <td>no</td>\n",
       "      <td>cellular</td>\n",
       "      <td>17</td>\n",
       "      <td>nov</td>\n",
       "      <td>977</td>\n",
       "      <td>3</td>\n",
       "      <td>-1</td>\n",
       "      <td>0</td>\n",
       "      <td>unknown</td>\n",
       "      <td>yes</td>\n",
       "    </tr>\n",
       "    <tr>\n",
       "      <th>45207</th>\n",
       "      <td>71</td>\n",
       "      <td>retired</td>\n",
       "      <td>divorced</td>\n",
       "      <td>primary</td>\n",
       "      <td>no</td>\n",
       "      <td>1729</td>\n",
       "      <td>no</td>\n",
       "      <td>no</td>\n",
       "      <td>cellular</td>\n",
       "      <td>17</td>\n",
       "      <td>nov</td>\n",
       "      <td>456</td>\n",
       "      <td>2</td>\n",
       "      <td>-1</td>\n",
       "      <td>0</td>\n",
       "      <td>unknown</td>\n",
       "      <td>yes</td>\n",
       "    </tr>\n",
       "    <tr>\n",
       "      <th>45208</th>\n",
       "      <td>72</td>\n",
       "      <td>retired</td>\n",
       "      <td>married</td>\n",
       "      <td>secondary</td>\n",
       "      <td>no</td>\n",
       "      <td>5715</td>\n",
       "      <td>no</td>\n",
       "      <td>no</td>\n",
       "      <td>cellular</td>\n",
       "      <td>17</td>\n",
       "      <td>nov</td>\n",
       "      <td>1127</td>\n",
       "      <td>5</td>\n",
       "      <td>184</td>\n",
       "      <td>3</td>\n",
       "      <td>success</td>\n",
       "      <td>yes</td>\n",
       "    </tr>\n",
       "    <tr>\n",
       "      <th>45209</th>\n",
       "      <td>57</td>\n",
       "      <td>blue-collar</td>\n",
       "      <td>married</td>\n",
       "      <td>secondary</td>\n",
       "      <td>no</td>\n",
       "      <td>668</td>\n",
       "      <td>no</td>\n",
       "      <td>no</td>\n",
       "      <td>telephone</td>\n",
       "      <td>17</td>\n",
       "      <td>nov</td>\n",
       "      <td>508</td>\n",
       "      <td>4</td>\n",
       "      <td>-1</td>\n",
       "      <td>0</td>\n",
       "      <td>unknown</td>\n",
       "      <td>no</td>\n",
       "    </tr>\n",
       "    <tr>\n",
       "      <th>45210</th>\n",
       "      <td>37</td>\n",
       "      <td>entrepreneur</td>\n",
       "      <td>married</td>\n",
       "      <td>secondary</td>\n",
       "      <td>no</td>\n",
       "      <td>2971</td>\n",
       "      <td>no</td>\n",
       "      <td>no</td>\n",
       "      <td>cellular</td>\n",
       "      <td>17</td>\n",
       "      <td>nov</td>\n",
       "      <td>361</td>\n",
       "      <td>2</td>\n",
       "      <td>188</td>\n",
       "      <td>11</td>\n",
       "      <td>other</td>\n",
       "      <td>no</td>\n",
       "    </tr>\n",
       "  </tbody>\n",
       "</table>\n",
       "<p>45211 rows × 17 columns</p>\n",
       "</div>"
      ],
      "text/plain": [
       "       age           job   marital  education default  balance housing loan  \\\n",
       "0       58    management   married   tertiary      no     2143     yes   no   \n",
       "1       44    technician    single  secondary      no       29     yes   no   \n",
       "2       33  entrepreneur   married  secondary      no        2     yes  yes   \n",
       "3       47   blue-collar   married    unknown      no     1506     yes   no   \n",
       "4       33       unknown    single    unknown      no        1      no   no   \n",
       "...    ...           ...       ...        ...     ...      ...     ...  ...   \n",
       "45206   51    technician   married   tertiary      no      825      no   no   \n",
       "45207   71       retired  divorced    primary      no     1729      no   no   \n",
       "45208   72       retired   married  secondary      no     5715      no   no   \n",
       "45209   57   blue-collar   married  secondary      no      668      no   no   \n",
       "45210   37  entrepreneur   married  secondary      no     2971      no   no   \n",
       "\n",
       "         contact  day month  duration  campaign  pdays  previous poutcome    y  \n",
       "0        unknown    5   may       261         1     -1         0  unknown   no  \n",
       "1        unknown    5   may       151         1     -1         0  unknown   no  \n",
       "2        unknown    5   may        76         1     -1         0  unknown   no  \n",
       "3        unknown    5   may        92         1     -1         0  unknown   no  \n",
       "4        unknown    5   may       198         1     -1         0  unknown   no  \n",
       "...          ...  ...   ...       ...       ...    ...       ...      ...  ...  \n",
       "45206   cellular   17   nov       977         3     -1         0  unknown  yes  \n",
       "45207   cellular   17   nov       456         2     -1         0  unknown  yes  \n",
       "45208   cellular   17   nov      1127         5    184         3  success  yes  \n",
       "45209  telephone   17   nov       508         4     -1         0  unknown   no  \n",
       "45210   cellular   17   nov       361         2    188        11    other   no  \n",
       "\n",
       "[45211 rows x 17 columns]"
      ]
     },
     "execution_count": 2,
     "metadata": {},
     "output_type": "execute_result"
    }
   ],
   "source": [
    "data=pd.read_csv('bank-full.csv',delimiter=\";\")\n",
    "data"
   ]
  },
  {
   "cell_type": "markdown",
   "id": "15df2390",
   "metadata": {},
   "source": [
    "## Exploratory Data Analysis (EDA) and Visulization of dataset"
   ]
  },
  {
   "cell_type": "code",
   "execution_count": 3,
   "id": "65817ea7",
   "metadata": {},
   "outputs": [
    {
     "name": "stdout",
     "output_type": "stream",
     "text": [
      "<class 'pandas.core.frame.DataFrame'>\n",
      "RangeIndex: 45211 entries, 0 to 45210\n",
      "Data columns (total 17 columns):\n",
      " #   Column     Non-Null Count  Dtype \n",
      "---  ------     --------------  ----- \n",
      " 0   age        45211 non-null  int64 \n",
      " 1   job        45211 non-null  object\n",
      " 2   marital    45211 non-null  object\n",
      " 3   education  45211 non-null  object\n",
      " 4   default    45211 non-null  object\n",
      " 5   balance    45211 non-null  int64 \n",
      " 6   housing    45211 non-null  object\n",
      " 7   loan       45211 non-null  object\n",
      " 8   contact    45211 non-null  object\n",
      " 9   day        45211 non-null  int64 \n",
      " 10  month      45211 non-null  object\n",
      " 11  duration   45211 non-null  int64 \n",
      " 12  campaign   45211 non-null  int64 \n",
      " 13  pdays      45211 non-null  int64 \n",
      " 14  previous   45211 non-null  int64 \n",
      " 15  poutcome   45211 non-null  object\n",
      " 16  y          45211 non-null  object\n",
      "dtypes: int64(7), object(10)\n",
      "memory usage: 5.9+ MB\n"
     ]
    }
   ],
   "source": [
    "data.info()"
   ]
  },
  {
   "cell_type": "code",
   "execution_count": 4,
   "id": "4e08bcbf",
   "metadata": {},
   "outputs": [
    {
     "data": {
      "text/plain": [
       "(45211, 17)"
      ]
     },
     "execution_count": 4,
     "metadata": {},
     "output_type": "execute_result"
    }
   ],
   "source": [
    "#removing NA value in dataset\n",
    "data=data.dropna()\n",
    "data.shape"
   ]
  },
  {
   "cell_type": "code",
   "execution_count": 5,
   "id": "a4decafa",
   "metadata": {},
   "outputs": [
    {
     "data": {
      "text/plain": [
       "0"
      ]
     },
     "execution_count": 5,
     "metadata": {},
     "output_type": "execute_result"
    }
   ],
   "source": [
    "data.duplicated().sum()"
   ]
  },
  {
   "cell_type": "code",
   "execution_count": 6,
   "id": "ff0018dc",
   "metadata": {},
   "outputs": [
    {
     "data": {
      "text/plain": [
       "((5289, 17), (39922, 17))"
      ]
     },
     "execution_count": 6,
     "metadata": {},
     "output_type": "execute_result"
    }
   ],
   "source": [
    "#visulization of categorical data\n",
    "data1=data[data.y=='yes']\n",
    "data2=data[data.y=='no']\n",
    "data1.shape,data2.shape"
   ]
  },
  {
   "cell_type": "code",
   "execution_count": 7,
   "id": "8e89245a",
   "metadata": {},
   "outputs": [
    {
     "data": {
      "image/png": "[encoded data removed]",
      "text/plain": [
       "<Figure size 1008x1296 with 9 Axes>"
      ]
     },
     "metadata": {
      "needs_background": "light"
     },
     "output_type": "display_data"
    }
   ],
   "source": [
    "fig, ax = plt.subplots(3, 3, figsize=(14,18))\n",
    "b1=ax[0, 0].bar(data1['marital'].unique(),height = data1['marital'].value_counts(),color='#0d6ba5')\n",
    "b2=ax[0, 0].bar(data2['marital'].unique(),height = data2['marital'].value_counts()[data2['marital'].value_counts().index],\n",
    "                bottom = data1['marital'].value_counts(),color = '#45b0f1') \n",
    "ax[0, 0].title.set_text('marital')\n",
    "\n",
    "ax[0, 1].bar(data1['housing'].unique(),height = data1['housing'].value_counts(),color='#0d6ba5')\n",
    "ax[0, 1].bar(data2['housing'].unique(),height = data2['housing'].value_counts()[data2['housing'].value_counts().index],\n",
    "             bottom = data1['housing'].value_counts(),color = '#45b0f1') \n",
    "ax[0, 1].title.set_text('housing')\n",
    "\n",
    "ax[0, 2].bar(data1['default'].unique(),height = data1['default'].value_counts(),color='#0d6ba5')\n",
    "ax[0, 2].bar(data2['default'].unique(),height = data2['default'].value_counts()[data2['default'].value_counts().index],\n",
    "             bottom = data1['default'].value_counts(),color = '#45b0f1') \n",
    "ax[0, 2].title.set_text('default')\n",
    "\n",
    "ax[1, 0].bar(data1['loan'].unique(),height = data1['loan'].value_counts(),color='#0d6ba5')\n",
    "ax[1, 0].bar(data2['loan'].unique(),height = data2['loan'].value_counts()[data2['loan'].value_counts().index],\n",
    "             bottom = data1['loan'].value_counts(),color = '#45b0f1') \n",
    "ax[1, 0].title.set_text('loan')\n",
    "\n",
    "\n",
    "ax[1, 1].bar(data1['contact'].unique(),height = data1['contact'].value_counts(),color='#0d6ba5')\n",
    "ax[1, 1].bar(data2['contact'].unique(),height = data2['contact'].value_counts()[data2['contact'].value_counts().index],\n",
    "             bottom = data1['contact'].value_counts(),color = '#45b0f1') \n",
    "ax[1, 1].title.set_text('contact')\n",
    "\n",
    "ax[1, 2].bar(data1['education'].unique(),height = data1['education'].value_counts(),color='#0d6ba5')\n",
    "ax[1, 2].bar(data2['education'].unique(),height=data2['education'].value_counts()[data2['education'].value_counts().index],\n",
    "             bottom = data1['education'].value_counts(),color = '#45b0f1') \n",
    "ax[1, 2].title.set_text('Education')\n",
    "ax[1, 2].tick_params(axis='x',rotation=45)\n",
    "\n",
    "ax[2, 0].bar(data1['job'].unique(),height = data1['job'].value_counts(),color='#0d6ba5')\n",
    "ax[2, 0].bar(data2['job'].unique(),height = data2['job'].value_counts()[data2['job'].value_counts().index],\n",
    "             bottom = data1['job'].value_counts(),color = '#45b0f1') \n",
    "ax[2, 0].title.set_text('Type of Job')\n",
    "ax[2, 0].tick_params(axis='x',rotation=90)\n",
    "\n",
    "ax[2, 1].bar(data1['month'].unique(),height = data1['month'].value_counts(),color='#0d6ba5')\n",
    "ax[2, 1].bar(data2['month'].unique(),height = data2['month'].value_counts()[data2['month'].value_counts().index],\n",
    "             bottom = data1['month'].value_counts(),color = '#45b0f1') \n",
    "ax[2, 1].title.set_text('month')\n",
    "ax[2, 1].tick_params(axis='x',rotation=90)\n",
    "ax[2, 2].bar(data1['poutcome'].unique(),height = data1['poutcome'].value_counts(),color='#0d6ba5')\n",
    "ax[2, 2].bar(data2['poutcome'].unique(),height = data2['poutcome'].value_counts()[data2['poutcome'].value_counts().index],\n",
    "             bottom = data1['poutcome'].value_counts(),color = '#45b0f1') \n",
    "ax[2, 2].title.set_text('poutcome')\n",
    "ax[2, 2].tick_params(axis='x',rotation=90)\n",
    "plt.figlegend((b1[0], b2[0]), ('Yes', 'No'),loc=\"right\",title = \"Term deposit\")\n",
    "plt.show()"
   ]
  },
  {
   "cell_type": "code",
   "execution_count": 8,
   "id": "a25db4ae",
   "metadata": {},
   "outputs": [
    {
     "data": {
      "image/png": "[encoded data removed]",
      "text/plain": [
       "<Figure size 864x720 with 4 Axes>"
      ]
     },
     "metadata": {
      "needs_background": "light"
     },
     "output_type": "display_data"
    }
   ],
   "source": [
    "# histogram plot for continous variables\n",
    "fig, ax = plt.subplots(2, 2, figsize=(12,10))\n",
    "\n",
    "ax[0, 0].hist(data1['age'],color = '#45b0f1', edgecolor='white') \n",
    "ax[0, 0].hist(data2['age'],color='#0d6ba5', edgecolor='white')\n",
    "ax[0, 0].title.set_text('Age')\n",
    "ax[0, 1].hist(data1['duration'],color = '#45b0f1',edgecolor='white') \n",
    "ax[0, 1].hist(data2['duration'],color='#0d6ba5',edgecolor='white')\n",
    "ax[0, 1].title.set_text('duration')\n",
    "ax[1, 0].hist(data1['campaign'],color = '#45b0f1', edgecolor='white') \n",
    "ax[1, 0].hist(data2['campaign'],color='#0d6ba5', edgecolor='white')\n",
    "ax[1, 0].title.set_text('campaign')\n",
    "ax[1, 1].hist(data1[data1['pdays'] != 999]['pdays'],color = '#45b0f1', edgecolor='white') \n",
    "ax[1, 1].hist(data2[data2['pdays'] != 999]['pdays'],color='#0d6ba5', edgecolor='white')\n",
    "ax[1, 1].title.set_text('Previous ')\n",
    "plt.figlegend((b1[0], b2[0]), ('Yes', 'No'),loc=\"right\",title = \"Term deposit\")\n",
    "plt.show()"
   ]
  },
  {
   "cell_type": "code",
   "execution_count": 9,
   "id": "f10d5496",
   "metadata": {},
   "outputs": [
    {
     "data": {
      "image/png": "[encoded data removed]",
      "text/plain": [
       "<Figure size 864x360 with 3 Axes>"
      ]
     },
     "metadata": {
      "needs_background": "light"
     },
     "output_type": "display_data"
    }
   ],
   "source": [
    "fig, ax = plt.subplots(1, 3,squeeze=False, figsize=(12,5))\n",
    "\n",
    "ax[0, 0].hist(data1['balance'],color = '#45b0f1', edgecolor='white') \n",
    "ax[0, 0].hist(data2['balance'],color='#0d6ba5', edgecolor='white')\n",
    "ax[0, 0].title.set_text('balance')\n",
    "ax[0, 1].hist(data1['pdays'],color = '#45b0f1',edgecolor='white') \n",
    "ax[0, 1].hist(data2['pdays'],color='#0d6ba5', edgecolor='white')\n",
    "ax[0, 1].title.set_text('pdays')\n",
    "ax[0, 2].hist(data1['previous'],color = '#45b0f1', edgecolor='white') \n",
    "ax[0, 2].hist(data2['previous'],color='#0d6ba5',edgecolor='white')\n",
    "ax[0, 2].title.set_text('previous')\n",
    "\n",
    "plt.figlegend((b1[0], b2[0]), ('Yes', 'No'),loc=\"right\",title = \"Term deposit\")\n",
    "plt.show()"
   ]
  },
  {
   "cell_type": "markdown",
   "id": "727b5f1e",
   "metadata": {},
   "source": [
    "## One-Hot Encoding for categorical variables"
   ]
  },
  {
   "cell_type": "code",
   "execution_count": 10,
   "id": "84f7c944",
   "metadata": {},
   "outputs": [
    {
     "data": {
      "text/html": [
       "<div>\n",
       "<style scoped>\n",
       "    .dataframe tbody tr th:only-of-type {\n",
       "        vertical-align: middle;\n",
       "    }\n",
       "\n",
       "    .dataframe tbody tr th {\n",
       "        vertical-align: top;\n",
       "    }\n",
       "\n",
       "    .dataframe thead th {\n",
       "        text-align: right;\n",
       "    }\n",
       "</style>\n",
       "<table border=\"1\" class=\"dataframe\">\n",
       "  <thead>\n",
       "    <tr style=\"text-align: right;\">\n",
       "      <th></th>\n",
       "      <th>age</th>\n",
       "      <th>default</th>\n",
       "      <th>balance</th>\n",
       "      <th>housing</th>\n",
       "      <th>loan</th>\n",
       "      <th>day</th>\n",
       "      <th>duration</th>\n",
       "      <th>campaign</th>\n",
       "      <th>pdays</th>\n",
       "      <th>previous</th>\n",
       "      <th>...</th>\n",
       "      <th>month_dec</th>\n",
       "      <th>month_feb</th>\n",
       "      <th>month_jan</th>\n",
       "      <th>month_jul</th>\n",
       "      <th>month_jun</th>\n",
       "      <th>month_mar</th>\n",
       "      <th>month_may</th>\n",
       "      <th>month_nov</th>\n",
       "      <th>month_oct</th>\n",
       "      <th>month_sep</th>\n",
       "    </tr>\n",
       "  </thead>\n",
       "  <tbody>\n",
       "    <tr>\n",
       "      <th>0</th>\n",
       "      <td>58</td>\n",
       "      <td>no</td>\n",
       "      <td>2143</td>\n",
       "      <td>yes</td>\n",
       "      <td>no</td>\n",
       "      <td>5</td>\n",
       "      <td>261</td>\n",
       "      <td>1</td>\n",
       "      <td>-1</td>\n",
       "      <td>0</td>\n",
       "      <td>...</td>\n",
       "      <td>0</td>\n",
       "      <td>0</td>\n",
       "      <td>0</td>\n",
       "      <td>0</td>\n",
       "      <td>0</td>\n",
       "      <td>0</td>\n",
       "      <td>1</td>\n",
       "      <td>0</td>\n",
       "      <td>0</td>\n",
       "      <td>0</td>\n",
       "    </tr>\n",
       "    <tr>\n",
       "      <th>1</th>\n",
       "      <td>44</td>\n",
       "      <td>no</td>\n",
       "      <td>29</td>\n",
       "      <td>yes</td>\n",
       "      <td>no</td>\n",
       "      <td>5</td>\n",
       "      <td>151</td>\n",
       "      <td>1</td>\n",
       "      <td>-1</td>\n",
       "      <td>0</td>\n",
       "      <td>...</td>\n",
       "      <td>0</td>\n",
       "      <td>0</td>\n",
       "      <td>0</td>\n",
       "      <td>0</td>\n",
       "      <td>0</td>\n",
       "      <td>0</td>\n",
       "      <td>1</td>\n",
       "      <td>0</td>\n",
       "      <td>0</td>\n",
       "      <td>0</td>\n",
       "    </tr>\n",
       "    <tr>\n",
       "      <th>2</th>\n",
       "      <td>33</td>\n",
       "      <td>no</td>\n",
       "      <td>2</td>\n",
       "      <td>yes</td>\n",
       "      <td>yes</td>\n",
       "      <td>5</td>\n",
       "      <td>76</td>\n",
       "      <td>1</td>\n",
       "      <td>-1</td>\n",
       "      <td>0</td>\n",
       "      <td>...</td>\n",
       "      <td>0</td>\n",
       "      <td>0</td>\n",
       "      <td>0</td>\n",
       "      <td>0</td>\n",
       "      <td>0</td>\n",
       "      <td>0</td>\n",
       "      <td>1</td>\n",
       "      <td>0</td>\n",
       "      <td>0</td>\n",
       "      <td>0</td>\n",
       "    </tr>\n",
       "    <tr>\n",
       "      <th>3</th>\n",
       "      <td>47</td>\n",
       "      <td>no</td>\n",
       "      <td>1506</td>\n",
       "      <td>yes</td>\n",
       "      <td>no</td>\n",
       "      <td>5</td>\n",
       "      <td>92</td>\n",
       "      <td>1</td>\n",
       "      <td>-1</td>\n",
       "      <td>0</td>\n",
       "      <td>...</td>\n",
       "      <td>0</td>\n",
       "      <td>0</td>\n",
       "      <td>0</td>\n",
       "      <td>0</td>\n",
       "      <td>0</td>\n",
       "      <td>0</td>\n",
       "      <td>1</td>\n",
       "      <td>0</td>\n",
       "      <td>0</td>\n",
       "      <td>0</td>\n",
       "    </tr>\n",
       "    <tr>\n",
       "      <th>4</th>\n",
       "      <td>33</td>\n",
       "      <td>no</td>\n",
       "      <td>1</td>\n",
       "      <td>no</td>\n",
       "      <td>no</td>\n",
       "      <td>5</td>\n",
       "      <td>198</td>\n",
       "      <td>1</td>\n",
       "      <td>-1</td>\n",
       "      <td>0</td>\n",
       "      <td>...</td>\n",
       "      <td>0</td>\n",
       "      <td>0</td>\n",
       "      <td>0</td>\n",
       "      <td>0</td>\n",
       "      <td>0</td>\n",
       "      <td>0</td>\n",
       "      <td>1</td>\n",
       "      <td>0</td>\n",
       "      <td>0</td>\n",
       "      <td>0</td>\n",
       "    </tr>\n",
       "  </tbody>\n",
       "</table>\n",
       "<p>5 rows × 49 columns</p>\n",
       "</div>"
      ],
      "text/plain": [
       "   age default  balance housing loan  day  duration  campaign  pdays  \\\n",
       "0   58      no     2143     yes   no    5       261         1     -1   \n",
       "1   44      no       29     yes   no    5       151         1     -1   \n",
       "2   33      no        2     yes  yes    5        76         1     -1   \n",
       "3   47      no     1506     yes   no    5        92         1     -1   \n",
       "4   33      no        1      no   no    5       198         1     -1   \n",
       "\n",
       "   previous  ... month_dec  month_feb  month_jan  month_jul  month_jun  \\\n",
       "0         0  ...         0          0          0          0          0   \n",
       "1         0  ...         0          0          0          0          0   \n",
       "2         0  ...         0          0          0          0          0   \n",
       "3         0  ...         0          0          0          0          0   \n",
       "4         0  ...         0          0          0          0          0   \n",
       "\n",
       "   month_mar  month_may  month_nov  month_oct  month_sep  \n",
       "0          0          1          0          0          0  \n",
       "1          0          1          0          0          0  \n",
       "2          0          1          0          0          0  \n",
       "3          0          1          0          0          0  \n",
       "4          0          1          0          0          0  \n",
       "\n",
       "[5 rows x 49 columns]"
      ]
     },
     "execution_count": 10,
     "metadata": {},
     "output_type": "execute_result"
    }
   ],
   "source": [
    "new_data=data.copy()\n",
    "new_data=pd.get_dummies(data,columns=['job','marital','education','contact','poutcome','month'],drop_first=False)\n",
    "new_data.head()"
   ]
  },
  {
   "cell_type": "code",
   "execution_count": 11,
   "id": "2bdbe201",
   "metadata": {},
   "outputs": [
    {
     "data": {
      "text/html": [
       "<div>\n",
       "<style scoped>\n",
       "    .dataframe tbody tr th:only-of-type {\n",
       "        vertical-align: middle;\n",
       "    }\n",
       "\n",
       "    .dataframe tbody tr th {\n",
       "        vertical-align: top;\n",
       "    }\n",
       "\n",
       "    .dataframe thead th {\n",
       "        text-align: right;\n",
       "    }\n",
       "</style>\n",
       "<table border=\"1\" class=\"dataframe\">\n",
       "  <thead>\n",
       "    <tr style=\"text-align: right;\">\n",
       "      <th></th>\n",
       "      <th>age</th>\n",
       "      <th>default</th>\n",
       "      <th>balance</th>\n",
       "      <th>housing</th>\n",
       "      <th>loan</th>\n",
       "      <th>day</th>\n",
       "      <th>duration</th>\n",
       "      <th>campaign</th>\n",
       "      <th>pdays</th>\n",
       "      <th>previous</th>\n",
       "      <th>...</th>\n",
       "      <th>month_dec</th>\n",
       "      <th>month_feb</th>\n",
       "      <th>month_jan</th>\n",
       "      <th>month_jul</th>\n",
       "      <th>month_jun</th>\n",
       "      <th>month_mar</th>\n",
       "      <th>month_may</th>\n",
       "      <th>month_nov</th>\n",
       "      <th>month_oct</th>\n",
       "      <th>month_sep</th>\n",
       "    </tr>\n",
       "  </thead>\n",
       "  <tbody>\n",
       "    <tr>\n",
       "      <th>0</th>\n",
       "      <td>58</td>\n",
       "      <td>0</td>\n",
       "      <td>2143</td>\n",
       "      <td>1</td>\n",
       "      <td>0</td>\n",
       "      <td>5</td>\n",
       "      <td>261</td>\n",
       "      <td>1</td>\n",
       "      <td>-1</td>\n",
       "      <td>0</td>\n",
       "      <td>...</td>\n",
       "      <td>0</td>\n",
       "      <td>0</td>\n",
       "      <td>0</td>\n",
       "      <td>0</td>\n",
       "      <td>0</td>\n",
       "      <td>0</td>\n",
       "      <td>1</td>\n",
       "      <td>0</td>\n",
       "      <td>0</td>\n",
       "      <td>0</td>\n",
       "    </tr>\n",
       "    <tr>\n",
       "      <th>1</th>\n",
       "      <td>44</td>\n",
       "      <td>0</td>\n",
       "      <td>29</td>\n",
       "      <td>1</td>\n",
       "      <td>0</td>\n",
       "      <td>5</td>\n",
       "      <td>151</td>\n",
       "      <td>1</td>\n",
       "      <td>-1</td>\n",
       "      <td>0</td>\n",
       "      <td>...</td>\n",
       "      <td>0</td>\n",
       "      <td>0</td>\n",
       "      <td>0</td>\n",
       "      <td>0</td>\n",
       "      <td>0</td>\n",
       "      <td>0</td>\n",
       "      <td>1</td>\n",
       "      <td>0</td>\n",
       "      <td>0</td>\n",
       "      <td>0</td>\n",
       "    </tr>\n",
       "    <tr>\n",
       "      <th>2</th>\n",
       "      <td>33</td>\n",
       "      <td>0</td>\n",
       "      <td>2</td>\n",
       "      <td>1</td>\n",
       "      <td>1</td>\n",
       "      <td>5</td>\n",
       "      <td>76</td>\n",
       "      <td>1</td>\n",
       "      <td>-1</td>\n",
       "      <td>0</td>\n",
       "      <td>...</td>\n",
       "      <td>0</td>\n",
       "      <td>0</td>\n",
       "      <td>0</td>\n",
       "      <td>0</td>\n",
       "      <td>0</td>\n",
       "      <td>0</td>\n",
       "      <td>1</td>\n",
       "      <td>0</td>\n",
       "      <td>0</td>\n",
       "      <td>0</td>\n",
       "    </tr>\n",
       "    <tr>\n",
       "      <th>3</th>\n",
       "      <td>47</td>\n",
       "      <td>0</td>\n",
       "      <td>1506</td>\n",
       "      <td>1</td>\n",
       "      <td>0</td>\n",
       "      <td>5</td>\n",
       "      <td>92</td>\n",
       "      <td>1</td>\n",
       "      <td>-1</td>\n",
       "      <td>0</td>\n",
       "      <td>...</td>\n",
       "      <td>0</td>\n",
       "      <td>0</td>\n",
       "      <td>0</td>\n",
       "      <td>0</td>\n",
       "      <td>0</td>\n",
       "      <td>0</td>\n",
       "      <td>1</td>\n",
       "      <td>0</td>\n",
       "      <td>0</td>\n",
       "      <td>0</td>\n",
       "    </tr>\n",
       "    <tr>\n",
       "      <th>4</th>\n",
       "      <td>33</td>\n",
       "      <td>0</td>\n",
       "      <td>1</td>\n",
       "      <td>0</td>\n",
       "      <td>0</td>\n",
       "      <td>5</td>\n",
       "      <td>198</td>\n",
       "      <td>1</td>\n",
       "      <td>-1</td>\n",
       "      <td>0</td>\n",
       "      <td>...</td>\n",
       "      <td>0</td>\n",
       "      <td>0</td>\n",
       "      <td>0</td>\n",
       "      <td>0</td>\n",
       "      <td>0</td>\n",
       "      <td>0</td>\n",
       "      <td>1</td>\n",
       "      <td>0</td>\n",
       "      <td>0</td>\n",
       "      <td>0</td>\n",
       "    </tr>\n",
       "    <tr>\n",
       "      <th>...</th>\n",
       "      <td>...</td>\n",
       "      <td>...</td>\n",
       "      <td>...</td>\n",
       "      <td>...</td>\n",
       "      <td>...</td>\n",
       "      <td>...</td>\n",
       "      <td>...</td>\n",
       "      <td>...</td>\n",
       "      <td>...</td>\n",
       "      <td>...</td>\n",
       "      <td>...</td>\n",
       "      <td>...</td>\n",
       "      <td>...</td>\n",
       "      <td>...</td>\n",
       "      <td>...</td>\n",
       "      <td>...</td>\n",
       "      <td>...</td>\n",
       "      <td>...</td>\n",
       "      <td>...</td>\n",
       "      <td>...</td>\n",
       "      <td>...</td>\n",
       "    </tr>\n",
       "    <tr>\n",
       "      <th>45206</th>\n",
       "      <td>51</td>\n",
       "      <td>0</td>\n",
       "      <td>825</td>\n",
       "      <td>0</td>\n",
       "      <td>0</td>\n",
       "      <td>17</td>\n",
       "      <td>977</td>\n",
       "      <td>3</td>\n",
       "      <td>-1</td>\n",
       "      <td>0</td>\n",
       "      <td>...</td>\n",
       "      <td>0</td>\n",
       "      <td>0</td>\n",
       "      <td>0</td>\n",
       "      <td>0</td>\n",
       "      <td>0</td>\n",
       "      <td>0</td>\n",
       "      <td>0</td>\n",
       "      <td>1</td>\n",
       "      <td>0</td>\n",
       "      <td>0</td>\n",
       "    </tr>\n",
       "    <tr>\n",
       "      <th>45207</th>\n",
       "      <td>71</td>\n",
       "      <td>0</td>\n",
       "      <td>1729</td>\n",
       "      <td>0</td>\n",
       "      <td>0</td>\n",
       "      <td>17</td>\n",
       "      <td>456</td>\n",
       "      <td>2</td>\n",
       "      <td>-1</td>\n",
       "      <td>0</td>\n",
       "      <td>...</td>\n",
       "      <td>0</td>\n",
       "      <td>0</td>\n",
       "      <td>0</td>\n",
       "      <td>0</td>\n",
       "      <td>0</td>\n",
       "      <td>0</td>\n",
       "      <td>0</td>\n",
       "      <td>1</td>\n",
       "      <td>0</td>\n",
       "      <td>0</td>\n",
       "    </tr>\n",
       "    <tr>\n",
       "      <th>45208</th>\n",
       "      <td>72</td>\n",
       "      <td>0</td>\n",
       "      <td>5715</td>\n",
       "      <td>0</td>\n",
       "      <td>0</td>\n",
       "      <td>17</td>\n",
       "      <td>1127</td>\n",
       "      <td>5</td>\n",
       "      <td>184</td>\n",
       "      <td>3</td>\n",
       "      <td>...</td>\n",
       "      <td>0</td>\n",
       "      <td>0</td>\n",
       "      <td>0</td>\n",
       "      <td>0</td>\n",
       "      <td>0</td>\n",
       "      <td>0</td>\n",
       "      <td>0</td>\n",
       "      <td>1</td>\n",
       "      <td>0</td>\n",
       "      <td>0</td>\n",
       "    </tr>\n",
       "    <tr>\n",
       "      <th>45209</th>\n",
       "      <td>57</td>\n",
       "      <td>0</td>\n",
       "      <td>668</td>\n",
       "      <td>0</td>\n",
       "      <td>0</td>\n",
       "      <td>17</td>\n",
       "      <td>508</td>\n",
       "      <td>4</td>\n",
       "      <td>-1</td>\n",
       "      <td>0</td>\n",
       "      <td>...</td>\n",
       "      <td>0</td>\n",
       "      <td>0</td>\n",
       "      <td>0</td>\n",
       "      <td>0</td>\n",
       "      <td>0</td>\n",
       "      <td>0</td>\n",
       "      <td>0</td>\n",
       "      <td>1</td>\n",
       "      <td>0</td>\n",
       "      <td>0</td>\n",
       "    </tr>\n",
       "    <tr>\n",
       "      <th>45210</th>\n",
       "      <td>37</td>\n",
       "      <td>0</td>\n",
       "      <td>2971</td>\n",
       "      <td>0</td>\n",
       "      <td>0</td>\n",
       "      <td>17</td>\n",
       "      <td>361</td>\n",
       "      <td>2</td>\n",
       "      <td>188</td>\n",
       "      <td>11</td>\n",
       "      <td>...</td>\n",
       "      <td>0</td>\n",
       "      <td>0</td>\n",
       "      <td>0</td>\n",
       "      <td>0</td>\n",
       "      <td>0</td>\n",
       "      <td>0</td>\n",
       "      <td>0</td>\n",
       "      <td>1</td>\n",
       "      <td>0</td>\n",
       "      <td>0</td>\n",
       "    </tr>\n",
       "  </tbody>\n",
       "</table>\n",
       "<p>45211 rows × 49 columns</p>\n",
       "</div>"
      ],
      "text/plain": [
       "       age  default  balance  housing  loan  day  duration  campaign  pdays  \\\n",
       "0       58        0     2143        1     0    5       261         1     -1   \n",
       "1       44        0       29        1     0    5       151         1     -1   \n",
       "2       33        0        2        1     1    5        76         1     -1   \n",
       "3       47        0     1506        1     0    5        92         1     -1   \n",
       "4       33        0        1        0     0    5       198         1     -1   \n",
       "...    ...      ...      ...      ...   ...  ...       ...       ...    ...   \n",
       "45206   51        0      825        0     0   17       977         3     -1   \n",
       "45207   71        0     1729        0     0   17       456         2     -1   \n",
       "45208   72        0     5715        0     0   17      1127         5    184   \n",
       "45209   57        0      668        0     0   17       508         4     -1   \n",
       "45210   37        0     2971        0     0   17       361         2    188   \n",
       "\n",
       "       previous  ...  month_dec  month_feb  month_jan  month_jul  month_jun  \\\n",
       "0             0  ...          0          0          0          0          0   \n",
       "1             0  ...          0          0          0          0          0   \n",
       "2             0  ...          0          0          0          0          0   \n",
       "3             0  ...          0          0          0          0          0   \n",
       "4             0  ...          0          0          0          0          0   \n",
       "...         ...  ...        ...        ...        ...        ...        ...   \n",
       "45206         0  ...          0          0          0          0          0   \n",
       "45207         0  ...          0          0          0          0          0   \n",
       "45208         3  ...          0          0          0          0          0   \n",
       "45209         0  ...          0          0          0          0          0   \n",
       "45210        11  ...          0          0          0          0          0   \n",
       "\n",
       "       month_mar  month_may  month_nov  month_oct  month_sep  \n",
       "0              0          1          0          0          0  \n",
       "1              0          1          0          0          0  \n",
       "2              0          1          0          0          0  \n",
       "3              0          1          0          0          0  \n",
       "4              0          1          0          0          0  \n",
       "...          ...        ...        ...        ...        ...  \n",
       "45206          0          0          1          0          0  \n",
       "45207          0          0          1          0          0  \n",
       "45208          0          0          1          0          0  \n",
       "45209          0          0          1          0          0  \n",
       "45210          0          0          1          0          0  \n",
       "\n",
       "[45211 rows x 49 columns]"
      ]
     },
     "execution_count": 11,
     "metadata": {},
     "output_type": "execute_result"
    }
   ],
   "source": [
    "# Custom Binary Encoding of Binary o/p variables \n",
    "new_data['default'] = np.where(new_data['default'].str.contains(\"yes\"), 1, 0)\n",
    "new_data['housing'] = np.where(new_data['housing'].str.contains(\"yes\"), 1, 0)\n",
    "new_data['loan'] = np.where(new_data['loan'].str.contains(\"yes\"), 1, 0)\n",
    "new_data['y'] = np.where(new_data['y'].str.contains(\"yes\"), 1, 0)\n",
    "new_data"
   ]
  },
  {
   "cell_type": "code",
   "execution_count": 12,
   "id": "6f513611",
   "metadata": {},
   "outputs": [
    {
     "data": {
      "image/png": "[encoded data removed]",
      "text/plain": [
       "<Figure size 720x576 with 1 Axes>"
      ]
     },
     "metadata": {
      "needs_background": "light"
     },
     "output_type": "display_data"
    }
   ],
   "source": [
    "# checking from outliers\n",
    "plt.figure(figsize=(10,8))\n",
    "plt.boxplot(new_data)\n",
    "plt.show()"
   ]
  },
  {
   "cell_type": "code",
   "execution_count": 13,
   "id": "f3327040",
   "metadata": {},
   "outputs": [
    {
     "name": "stderr",
     "output_type": "stream",
     "text": [
      "C:\\Users\\hmaca\\anaconda3\\lib\\site-packages\\seaborn\\_decorators.py:36: FutureWarning: Pass the following variable as a keyword arg: x. From version 0.12, the only valid positional argument will be `data`, and passing other arguments without an explicit keyword will result in an error or misinterpretation.\n",
      "  warnings.warn(\n"
     ]
    },
    {
     "data": {
      "text/plain": [
       "<AxesSubplot:xlabel='duration'>"
      ]
     },
     "execution_count": 13,
     "metadata": {},
     "output_type": "execute_result"
    },
    {
     "data": {
      "image/png": "[encoded data removed]",
      "text/plain": [
       "<Figure size 432x288 with 1 Axes>"
      ]
     },
     "metadata": {
      "needs_background": "light"
     },
     "output_type": "display_data"
    }
   ],
   "source": [
    "sns.boxplot(new_data['duration'])"
   ]
  },
  {
   "cell_type": "code",
   "execution_count": 14,
   "id": "d911fc60",
   "metadata": {},
   "outputs": [
    {
     "name": "stderr",
     "output_type": "stream",
     "text": [
      "C:\\Users\\hmaca\\anaconda3\\lib\\site-packages\\seaborn\\_decorators.py:36: FutureWarning: Pass the following variable as a keyword arg: x. From version 0.12, the only valid positional argument will be `data`, and passing other arguments without an explicit keyword will result in an error or misinterpretation.\n",
      "  warnings.warn(\n"
     ]
    },
    {
     "data": {
      "text/plain": [
       "<AxesSubplot:xlabel='balance'>"
      ]
     },
     "execution_count": 14,
     "metadata": {},
     "output_type": "execute_result"
    },
    {
     "data": {
      "image/png": "[encoded data removed]",
      "text/plain": [
       "<Figure size 432x288 with 1 Axes>"
      ]
     },
     "metadata": {
      "needs_background": "light"
     },
     "output_type": "display_data"
    }
   ],
   "source": [
    "sns.boxplot(new_data['balance'])"
   ]
  },
  {
   "cell_type": "markdown",
   "id": "5eb0df96",
   "metadata": {},
   "source": [
    "#### As we show that duration and balance  have some outliers"
   ]
  },
  {
   "cell_type": "code",
   "execution_count": 16,
   "id": "b6b32892",
   "metadata": {},
   "outputs": [],
   "source": [
    "def outlierDetect(col):\n",
    "    Q1 = np.percentile(col, 25, interpolation = 'midpoint')  \n",
    "    Q3 = np.percentile(col, 75, interpolation = 'midpoint')\n",
    "    IQR = Q3 - Q1\n",
    "    low_lim = Q1 - 1.5 * IQR\n",
    "    up_lim = Q3 + 1.5 * IQR\n",
    "    return low_lim,up_lim"
   ]
  },
  {
   "cell_type": "code",
   "execution_count": 17,
   "id": "0512c206",
   "metadata": {},
   "outputs": [
    {
     "name": "stdout",
     "output_type": "stream",
     "text": [
      "(37570, 49)\n",
      "(34039, 49)\n",
      "(32227, 49)\n",
      "(31266, 49)\n",
      "(30750, 49)\n",
      "(30441, 49)\n",
      "(30301, 49)\n",
      "(30189, 49)\n",
      "(30114, 49)\n",
      "(30075, 49)\n",
      "(30054, 49)\n",
      "(30033, 49)\n"
     ]
    }
   ],
   "source": [
    "for i in range(12):\n",
    "    lower,uper=outlierDetect(new_data['balance'])\n",
    "    new_data=new_data[(new_data['balance']<uper )&(new_data['balance']>lower)]\n",
    "    lower,uper=outlierDetect(new_data['duration'])\n",
    "    new_data=new_data[(new_data['duration']<uper )&(new_data['duration']>lower)]\n",
    "    print(new_data.shape)"
   ]
  },
  {
   "cell_type": "code",
   "execution_count": 18,
   "id": "0a1f4b5b",
   "metadata": {},
   "outputs": [
    {
     "name": "stdout",
     "output_type": "stream",
     "text": [
      "<class 'pandas.core.frame.DataFrame'>\n",
      "Int64Index: 30033 entries, 1 to 45205\n",
      "Data columns (total 49 columns):\n",
      " #   Column               Non-Null Count  Dtype\n",
      "---  ------               --------------  -----\n",
      " 0   age                  30033 non-null  int64\n",
      " 1   default              30033 non-null  int32\n",
      " 2   balance              30033 non-null  int64\n",
      " 3   housing              30033 non-null  int32\n",
      " 4   loan                 30033 non-null  int32\n",
      " 5   day                  30033 non-null  int64\n",
      " 6   duration             30033 non-null  int64\n",
      " 7   campaign             30033 non-null  int64\n",
      " 8   pdays                30033 non-null  int64\n",
      " 9   previous             30033 non-null  int64\n",
      " 10  y                    30033 non-null  int32\n",
      " 11  job_admin.           30033 non-null  uint8\n",
      " 12  job_blue-collar      30033 non-null  uint8\n",
      " 13  job_entrepreneur     30033 non-null  uint8\n",
      " 14  job_housemaid        30033 non-null  uint8\n",
      " 15  job_management       30033 non-null  uint8\n",
      " 16  job_retired          30033 non-null  uint8\n",
      " 17  job_self-employed    30033 non-null  uint8\n",
      " 18  job_services         30033 non-null  uint8\n",
      " 19  job_student          30033 non-null  uint8\n",
      " 20  job_technician       30033 non-null  uint8\n",
      " 21  job_unemployed       30033 non-null  uint8\n",
      " 22  job_unknown          30033 non-null  uint8\n",
      " 23  marital_divorced     30033 non-null  uint8\n",
      " 24  marital_married      30033 non-null  uint8\n",
      " 25  marital_single       30033 non-null  uint8\n",
      " 26  education_primary    30033 non-null  uint8\n",
      " 27  education_secondary  30033 non-null  uint8\n",
      " 28  education_tertiary   30033 non-null  uint8\n",
      " 29  education_unknown    30033 non-null  uint8\n",
      " 30  contact_cellular     30033 non-null  uint8\n",
      " 31  contact_telephone    30033 non-null  uint8\n",
      " 32  contact_unknown      30033 non-null  uint8\n",
      " 33  poutcome_failure     30033 non-null  uint8\n",
      " 34  poutcome_other       30033 non-null  uint8\n",
      " 35  poutcome_success     30033 non-null  uint8\n",
      " 36  poutcome_unknown     30033 non-null  uint8\n",
      " 37  month_apr            30033 non-null  uint8\n",
      " 38  month_aug            30033 non-null  uint8\n",
      " 39  month_dec            30033 non-null  uint8\n",
      " 40  month_feb            30033 non-null  uint8\n",
      " 41  month_jan            30033 non-null  uint8\n",
      " 42  month_jul            30033 non-null  uint8\n",
      " 43  month_jun            30033 non-null  uint8\n",
      " 44  month_mar            30033 non-null  uint8\n",
      " 45  month_may            30033 non-null  uint8\n",
      " 46  month_nov            30033 non-null  uint8\n",
      " 47  month_oct            30033 non-null  uint8\n",
      " 48  month_sep            30033 non-null  uint8\n",
      "dtypes: int32(4), int64(7), uint8(38)\n",
      "memory usage: 3.4 MB\n"
     ]
    }
   ],
   "source": [
    "new_data.info()"
   ]
  },
  {
   "cell_type": "code",
   "execution_count": 19,
   "id": "ab97bc01",
   "metadata": {},
   "outputs": [
    {
     "name": "stderr",
     "output_type": "stream",
     "text": [
      "C:\\Users\\hmaca\\AppData\\Local\\Temp/ipykernel_8852/3991998035.py:2: FutureWarning: In a future version of pandas all arguments of DataFrame.drop except for the argument 'labels' will be keyword-only\n",
      "  X = new_data.drop(['y'],1)\n"
     ]
    }
   ],
   "source": [
    "# Dividing our data into input and output variables \n",
    "X = new_data.drop(['y'],1)\n",
    "y = new_data['y']"
   ]
  },
  {
   "cell_type": "code",
   "execution_count": 20,
   "id": "4abe3f7d",
   "metadata": {},
   "outputs": [
    {
     "data": {
      "text/plain": [
       "0    28156\n",
       "1     1877\n",
       "Name: y, dtype: int64"
      ]
     },
     "execution_count": 20,
     "metadata": {},
     "output_type": "execute_result"
    }
   ],
   "source": [
    "y.value_counts()"
   ]
  },
  {
   "cell_type": "code",
   "execution_count": 21,
   "id": "f3a72cb9",
   "metadata": {},
   "outputs": [],
   "source": [
    "# split X and y into training and testing sets\n",
    "X_train, X_test, y_train, y_test = train_test_split(X, y, test_size = 0.33, random_state = 0)"
   ]
  },
  {
   "cell_type": "code",
   "execution_count": 22,
   "id": "be6caa5a",
   "metadata": {},
   "outputs": [
    {
     "name": "stderr",
     "output_type": "stream",
     "text": [
      "C:\\Users\\hmaca\\anaconda3\\lib\\site-packages\\sklearn\\linear_model\\_logistic.py:763: ConvergenceWarning: lbfgs failed to converge (status=1):\n",
      "STOP: TOTAL NO. of ITERATIONS REACHED LIMIT.\n",
      "\n",
      "Increase the number of iterations (max_iter) or scale the data as shown in:\n",
      "    https://scikit-learn.org/stable/modules/preprocessing.html\n",
      "Please also refer to the documentation for alternative solver options:\n",
      "    https://scikit-learn.org/stable/modules/linear_model.html#logistic-regression\n",
      "  n_iter_i = _check_optimize_result(\n"
     ]
    },
    {
     "data": {
      "text/plain": [
       "LogisticRegression()"
      ]
     },
     "execution_count": 22,
     "metadata": {},
     "output_type": "execute_result"
    }
   ],
   "source": [
    "#Logistic regression and fit the model\n",
    "clf=LogisticRegression()\n",
    "clf.fit(X_train,y_train)"
   ]
  },
  {
   "cell_type": "markdown",
   "id": "a0fc7c03",
   "metadata": {},
   "source": [
    "## Training Accuracy"
   ]
  },
  {
   "cell_type": "code",
   "execution_count": 23,
   "id": "fe0c21cd",
   "metadata": {},
   "outputs": [
    {
     "data": {
      "text/html": [
       "<div>\n",
       "<style scoped>\n",
       "    .dataframe tbody tr th:only-of-type {\n",
       "        vertical-align: middle;\n",
       "    }\n",
       "\n",
       "    .dataframe tbody tr th {\n",
       "        vertical-align: top;\n",
       "    }\n",
       "\n",
       "    .dataframe thead th {\n",
       "        text-align: right;\n",
       "    }\n",
       "</style>\n",
       "<table border=\"1\" class=\"dataframe\">\n",
       "  <thead>\n",
       "    <tr style=\"text-align: right;\">\n",
       "      <th></th>\n",
       "      <th>actual</th>\n",
       "      <th>predicted_prob</th>\n",
       "    </tr>\n",
       "  </thead>\n",
       "  <tbody>\n",
       "    <tr>\n",
       "      <th>25160</th>\n",
       "      <td>0</td>\n",
       "      <td>0</td>\n",
       "    </tr>\n",
       "    <tr>\n",
       "      <th>18941</th>\n",
       "      <td>0</td>\n",
       "      <td>0</td>\n",
       "    </tr>\n",
       "    <tr>\n",
       "      <th>1769</th>\n",
       "      <td>0</td>\n",
       "      <td>0</td>\n",
       "    </tr>\n",
       "    <tr>\n",
       "      <th>21262</th>\n",
       "      <td>0</td>\n",
       "      <td>0</td>\n",
       "    </tr>\n",
       "    <tr>\n",
       "      <th>3493</th>\n",
       "      <td>0</td>\n",
       "      <td>0</td>\n",
       "    </tr>\n",
       "    <tr>\n",
       "      <th>...</th>\n",
       "      <td>...</td>\n",
       "      <td>...</td>\n",
       "    </tr>\n",
       "    <tr>\n",
       "      <th>18857</th>\n",
       "      <td>0</td>\n",
       "      <td>0</td>\n",
       "    </tr>\n",
       "    <tr>\n",
       "      <th>29043</th>\n",
       "      <td>0</td>\n",
       "      <td>0</td>\n",
       "    </tr>\n",
       "    <tr>\n",
       "      <th>14177</th>\n",
       "      <td>0</td>\n",
       "      <td>0</td>\n",
       "    </tr>\n",
       "    <tr>\n",
       "      <th>15505</th>\n",
       "      <td>0</td>\n",
       "      <td>0</td>\n",
       "    </tr>\n",
       "    <tr>\n",
       "      <th>3603</th>\n",
       "      <td>0</td>\n",
       "      <td>0</td>\n",
       "    </tr>\n",
       "  </tbody>\n",
       "</table>\n",
       "<p>20122 rows × 2 columns</p>\n",
       "</div>"
      ],
      "text/plain": [
       "       actual  predicted_prob\n",
       "25160       0               0\n",
       "18941       0               0\n",
       "1769        0               0\n",
       "21262       0               0\n",
       "3493        0               0\n",
       "...       ...             ...\n",
       "18857       0               0\n",
       "29043       0               0\n",
       "14177       0               0\n",
       "15505       0               0\n",
       "3603        0               0\n",
       "\n",
       "[20122 rows x 2 columns]"
      ]
     },
     "execution_count": 23,
     "metadata": {},
     "output_type": "execute_result"
    }
   ],
   "source": [
    "#Predict for X dataset\n",
    "y_pred_train=clf.predict(X_train)\n",
    "y_pred_train_df = pd.DataFrame({'actual': y_train,'predicted_prob': y_pred_train})\n",
    "y_pred_train_df"
   ]
  },
  {
   "cell_type": "markdown",
   "id": "1dce22cf",
   "metadata": {},
   "source": [
    "## Testing Accuracy"
   ]
  },
  {
   "cell_type": "code",
   "execution_count": 24,
   "id": "b49e1f65",
   "metadata": {},
   "outputs": [
    {
     "data": {
      "text/html": [
       "<div>\n",
       "<style scoped>\n",
       "    .dataframe tbody tr th:only-of-type {\n",
       "        vertical-align: middle;\n",
       "    }\n",
       "\n",
       "    .dataframe tbody tr th {\n",
       "        vertical-align: top;\n",
       "    }\n",
       "\n",
       "    .dataframe thead th {\n",
       "        text-align: right;\n",
       "    }\n",
       "</style>\n",
       "<table border=\"1\" class=\"dataframe\">\n",
       "  <thead>\n",
       "    <tr style=\"text-align: right;\">\n",
       "      <th></th>\n",
       "      <th>actual</th>\n",
       "      <th>predicted_prob</th>\n",
       "    </tr>\n",
       "  </thead>\n",
       "  <tbody>\n",
       "    <tr>\n",
       "      <th>44002</th>\n",
       "      <td>0</td>\n",
       "      <td>0</td>\n",
       "    </tr>\n",
       "    <tr>\n",
       "      <th>37519</th>\n",
       "      <td>0</td>\n",
       "      <td>0</td>\n",
       "    </tr>\n",
       "    <tr>\n",
       "      <th>8005</th>\n",
       "      <td>0</td>\n",
       "      <td>0</td>\n",
       "    </tr>\n",
       "    <tr>\n",
       "      <th>44863</th>\n",
       "      <td>1</td>\n",
       "      <td>1</td>\n",
       "    </tr>\n",
       "    <tr>\n",
       "      <th>5675</th>\n",
       "      <td>0</td>\n",
       "      <td>0</td>\n",
       "    </tr>\n",
       "    <tr>\n",
       "      <th>...</th>\n",
       "      <td>...</td>\n",
       "      <td>...</td>\n",
       "    </tr>\n",
       "    <tr>\n",
       "      <th>6242</th>\n",
       "      <td>0</td>\n",
       "      <td>0</td>\n",
       "    </tr>\n",
       "    <tr>\n",
       "      <th>26095</th>\n",
       "      <td>0</td>\n",
       "      <td>0</td>\n",
       "    </tr>\n",
       "    <tr>\n",
       "      <th>17151</th>\n",
       "      <td>0</td>\n",
       "      <td>0</td>\n",
       "    </tr>\n",
       "    <tr>\n",
       "      <th>20423</th>\n",
       "      <td>0</td>\n",
       "      <td>0</td>\n",
       "    </tr>\n",
       "    <tr>\n",
       "      <th>42728</th>\n",
       "      <td>0</td>\n",
       "      <td>0</td>\n",
       "    </tr>\n",
       "  </tbody>\n",
       "</table>\n",
       "<p>9911 rows × 2 columns</p>\n",
       "</div>"
      ],
      "text/plain": [
       "       actual  predicted_prob\n",
       "44002       0               0\n",
       "37519       0               0\n",
       "8005        0               0\n",
       "44863       1               1\n",
       "5675        0               0\n",
       "...       ...             ...\n",
       "6242        0               0\n",
       "26095       0               0\n",
       "17151       0               0\n",
       "20423       0               0\n",
       "42728       0               0\n",
       "\n",
       "[9911 rows x 2 columns]"
      ]
     },
     "execution_count": 24,
     "metadata": {},
     "output_type": "execute_result"
    }
   ],
   "source": [
    "y_pred_test=clf.predict(X_test)\n",
    "y_pred_test_df = pd.DataFrame({'actual': y_test,'predicted_prob': y_pred_test})\n",
    "y_pred_test_df"
   ]
  },
  {
   "cell_type": "markdown",
   "id": "e7adb320",
   "metadata": {},
   "source": [
    "## Checking for overfitting and underfitting"
   ]
  },
  {
   "cell_type": "code",
   "execution_count": 25,
   "id": "a3e0777f",
   "metadata": {},
   "outputs": [
    {
     "name": "stdout",
     "output_type": "stream",
     "text": [
      "Training-set accuracy score: 0.94364\n",
      "Testing-set accuracy score: 0.94269\n"
     ]
    }
   ],
   "source": [
    "print(f'Training-set accuracy score: {round(accuracy_score(y_train, y_pred_train),5)}')\n",
    "print(f'Testing-set accuracy score: {round(accuracy_score(y_test, y_pred_test),5)}')"
   ]
  },
  {
   "cell_type": "markdown",
   "id": "c65d6d1b",
   "metadata": {},
   "source": [
    "#### Both have quite same accuracy so their is no overfitting and underfitting"
   ]
  },
  {
   "cell_type": "markdown",
   "id": "59a36e23",
   "metadata": {},
   "source": [
    "## Confusion Matrix"
   ]
  },
  {
   "cell_type": "code",
   "execution_count": 26,
   "id": "0cd19cdb",
   "metadata": {},
   "outputs": [
    {
     "name": "stdout",
     "output_type": "stream",
     "text": [
      "Confusion matrix\n",
      "\n",
      " [[9199   75]\n",
      " [ 493  144]]\n"
     ]
    }
   ],
   "source": [
    "cm=confusion_matrix(y_test,y_pred_test)\n",
    "print('Confusion matrix\\n\\n', cm)"
   ]
  },
  {
   "cell_type": "code",
   "execution_count": 27,
   "id": "d416751e",
   "metadata": {},
   "outputs": [
    {
     "data": {
      "text/plain": [
       "<AxesSubplot:>"
      ]
     },
     "execution_count": 27,
     "metadata": {},
     "output_type": "execute_result"
    },
    {
     "data": {
      "image/png": "[encoded data removed]",
      "text/plain": [
       "<Figure size 432x288 with 2 Axes>"
      ]
     },
     "metadata": {
      "needs_background": "light"
     },
     "output_type": "display_data"
    }
   ],
   "source": [
    "# visualize confusion matrix with seaborn heatmap\n",
    "cm_matrix = pd.DataFrame(data=cm, columns=['Actual Positive:1', 'Actual Negative:0'], \n",
    "                                 index=['Predict Positive:1', 'Predict Negative:0'])\n",
    "\n",
    "sns.heatmap(cm_matrix, annot=True, fmt='d', cmap='YlGnBu')\n"
   ]
  },
  {
   "cell_type": "markdown",
   "id": "1e3ef39d",
   "metadata": {},
   "source": [
    "## Classification report"
   ]
  },
  {
   "cell_type": "code",
   "execution_count": 28,
   "id": "19da7000",
   "metadata": {},
   "outputs": [
    {
     "name": "stdout",
     "output_type": "stream",
     "text": [
      "Classification accuracy : 0.9427\n"
     ]
    }
   ],
   "source": [
    "# print classification accuracy\n",
    "\n",
    "TP = cm[0,0]\n",
    "TN = cm[1,1]\n",
    "FP = cm[0,1]\n",
    "FN = cm[1,0]\n",
    "\n",
    "classification_accuracy = (TP + TN) / (TP + TN + FP + FN)\n",
    "\n",
    "print(f'Classification accuracy : {round(classification_accuracy,4)}')\n"
   ]
  },
  {
   "cell_type": "code",
   "execution_count": 29,
   "id": "00864df0",
   "metadata": {},
   "outputs": [
    {
     "name": "stdout",
     "output_type": "stream",
     "text": [
      "Classification error : 0.0573\n"
     ]
    }
   ],
   "source": [
    "# print classification error\n",
    "\n",
    "classification_error = (FP + FN) / float(TP + TN + FP + FN)\n",
    "\n",
    "print(f'Classification error : {round(classification_error,4)}')\n"
   ]
  },
  {
   "cell_type": "markdown",
   "id": "206a1437",
   "metadata": {},
   "source": [
    "## Precision"
   ]
  },
  {
   "cell_type": "code",
   "execution_count": 30,
   "id": "c3e6f98f",
   "metadata": {},
   "outputs": [
    {
     "name": "stdout",
     "output_type": "stream",
     "text": [
      "Precision : 0.9919\n"
     ]
    }
   ],
   "source": [
    "# print precision score\n",
    "\n",
    "precision = TP / float(TP + FP)\n",
    "\n",
    "\n",
    "print(f'Precision : {round(precision,4)}')"
   ]
  },
  {
   "cell_type": "markdown",
   "id": "70e56e48",
   "metadata": {},
   "source": [
    "## Recall or True Positive Rate"
   ]
  },
  {
   "cell_type": "code",
   "execution_count": 31,
   "id": "185bfd68",
   "metadata": {},
   "outputs": [
    {
     "name": "stdout",
     "output_type": "stream",
     "text": [
      "Recall or Sensitivity : 0.9491\n"
     ]
    }
   ],
   "source": [
    "recall = TP / float(TP + FN)\n",
    "\n",
    "print(f'Recall or Sensitivity : {round(recall,4)}')"
   ]
  },
  {
   "cell_type": "markdown",
   "id": "ec7a1a88",
   "metadata": {},
   "source": [
    "## Adjusting the threshold level"
   ]
  },
  {
   "cell_type": "code",
   "execution_count": 32,
   "id": "5db5ebe1",
   "metadata": {},
   "outputs": [
    {
     "data": {
      "text/html": [
       "<div>\n",
       "<style scoped>\n",
       "    .dataframe tbody tr th:only-of-type {\n",
       "        vertical-align: middle;\n",
       "    }\n",
       "\n",
       "    .dataframe tbody tr th {\n",
       "        vertical-align: top;\n",
       "    }\n",
       "\n",
       "    .dataframe thead th {\n",
       "        text-align: right;\n",
       "    }\n",
       "</style>\n",
       "<table border=\"1\" class=\"dataframe\">\n",
       "  <thead>\n",
       "    <tr style=\"text-align: right;\">\n",
       "      <th></th>\n",
       "      <th>Prob of client Not subscribed a term deposit(0)</th>\n",
       "      <th>Prob of client subscribed a term deposit (1)</th>\n",
       "    </tr>\n",
       "  </thead>\n",
       "  <tbody>\n",
       "    <tr>\n",
       "      <th>0</th>\n",
       "      <td>0.845635</td>\n",
       "      <td>0.154365</td>\n",
       "    </tr>\n",
       "    <tr>\n",
       "      <th>1</th>\n",
       "      <td>0.981928</td>\n",
       "      <td>0.018072</td>\n",
       "    </tr>\n",
       "    <tr>\n",
       "      <th>2</th>\n",
       "      <td>0.999159</td>\n",
       "      <td>0.000841</td>\n",
       "    </tr>\n",
       "    <tr>\n",
       "      <th>3</th>\n",
       "      <td>0.094899</td>\n",
       "      <td>0.905101</td>\n",
       "    </tr>\n",
       "    <tr>\n",
       "      <th>4</th>\n",
       "      <td>0.999732</td>\n",
       "      <td>0.000268</td>\n",
       "    </tr>\n",
       "    <tr>\n",
       "      <th>...</th>\n",
       "      <td>...</td>\n",
       "      <td>...</td>\n",
       "    </tr>\n",
       "    <tr>\n",
       "      <th>9906</th>\n",
       "      <td>0.998496</td>\n",
       "      <td>0.001504</td>\n",
       "    </tr>\n",
       "    <tr>\n",
       "      <th>9907</th>\n",
       "      <td>0.968950</td>\n",
       "      <td>0.031050</td>\n",
       "    </tr>\n",
       "    <tr>\n",
       "      <th>9908</th>\n",
       "      <td>0.996997</td>\n",
       "      <td>0.003003</td>\n",
       "    </tr>\n",
       "    <tr>\n",
       "      <th>9909</th>\n",
       "      <td>0.962655</td>\n",
       "      <td>0.037345</td>\n",
       "    </tr>\n",
       "    <tr>\n",
       "      <th>9910</th>\n",
       "      <td>0.913493</td>\n",
       "      <td>0.086507</td>\n",
       "    </tr>\n",
       "  </tbody>\n",
       "</table>\n",
       "<p>9911 rows × 2 columns</p>\n",
       "</div>"
      ],
      "text/plain": [
       "      Prob of client Not subscribed a term deposit(0)  \\\n",
       "0                                            0.845635   \n",
       "1                                            0.981928   \n",
       "2                                            0.999159   \n",
       "3                                            0.094899   \n",
       "4                                            0.999732   \n",
       "...                                               ...   \n",
       "9906                                         0.998496   \n",
       "9907                                         0.968950   \n",
       "9908                                         0.996997   \n",
       "9909                                         0.962655   \n",
       "9910                                         0.913493   \n",
       "\n",
       "      Prob of client subscribed a term deposit (1)  \n",
       "0                                         0.154365  \n",
       "1                                         0.018072  \n",
       "2                                         0.000841  \n",
       "3                                         0.905101  \n",
       "4                                         0.000268  \n",
       "...                                            ...  \n",
       "9906                                      0.001504  \n",
       "9907                                      0.031050  \n",
       "9908                                      0.003003  \n",
       "9909                                      0.037345  \n",
       "9910                                      0.086507  \n",
       "\n",
       "[9911 rows x 2 columns]"
      ]
     },
     "execution_count": 32,
     "metadata": {},
     "output_type": "execute_result"
    }
   ],
   "source": [
    "# print the predicted probabilities of two classes- 0 and 1\n",
    "\n",
    "y_pred_prob = clf.predict_proba(X_test)\n",
    "y_pred_prob_df = pd.DataFrame(data=y_pred_prob, columns=['Prob of client Not subscribed a term deposit(0)',\n",
    "                                                         'Prob of client subscribed a term deposit (1)'])\n",
    "y_pred_prob_df"
   ]
  },
  {
   "cell_type": "code",
   "execution_count": 33,
   "id": "5199225f",
   "metadata": {},
   "outputs": [
    {
     "name": "stdout",
     "output_type": "stream",
     "text": [
      "              precision    recall  f1-score   support\n",
      "\n",
      "           0       0.95      0.99      0.97      9274\n",
      "           1       0.66      0.23      0.34       637\n",
      "\n",
      "    accuracy                           0.94      9911\n",
      "   macro avg       0.80      0.61      0.65      9911\n",
      "weighted avg       0.93      0.94      0.93      9911\n",
      "\n"
     ]
    }
   ],
   "source": [
    "print(classification_report(y_test, y_pred_test))"
   ]
  },
  {
   "cell_type": "markdown",
   "id": "ffd652a1",
   "metadata": {},
   "source": [
    "### Try different threshold \n"
   ]
  },
  {
   "cell_type": "code",
   "execution_count": 34,
   "id": "ae79fad1",
   "metadata": {},
   "outputs": [
    {
     "data": {
      "text/html": [
       "<div>\n",
       "<style scoped>\n",
       "    .dataframe tbody tr th:only-of-type {\n",
       "        vertical-align: middle;\n",
       "    }\n",
       "\n",
       "    .dataframe tbody tr th {\n",
       "        vertical-align: top;\n",
       "    }\n",
       "\n",
       "    .dataframe thead th {\n",
       "        text-align: right;\n",
       "    }\n",
       "</style>\n",
       "<table border=\"1\" class=\"dataframe\">\n",
       "  <thead>\n",
       "    <tr style=\"text-align: right;\">\n",
       "      <th></th>\n",
       "      <th>Threshold</th>\n",
       "      <th>Correct_Predictions</th>\n",
       "      <th>FP</th>\n",
       "      <th>FN</th>\n",
       "      <th>Precision</th>\n",
       "      <th>Recall</th>\n",
       "    </tr>\n",
       "  </thead>\n",
       "  <tbody>\n",
       "  </tbody>\n",
       "</table>\n",
       "</div>"
      ],
      "text/plain": [
       "Empty DataFrame\n",
       "Columns: [Threshold, Correct_Predictions, FP, FN, Precision, Recall]\n",
       "Index: []"
      ]
     },
     "execution_count": 34,
     "metadata": {},
     "output_type": "execute_result"
    }
   ],
   "source": [
    "pred_threshold = pd.DataFrame( columns = ['Threshold',\n",
    "                               'Correct_Predictions',\n",
    "                               'FP',\n",
    "                               'FN',\n",
    "                               'Precision',\n",
    "                               'Recall'],index=None) \n",
    "pred_threshold"
   ]
  },
  {
   "cell_type": "code",
   "execution_count": 35,
   "id": "c8e831d1",
   "metadata": {},
   "outputs": [
    {
     "name": "stderr",
     "output_type": "stream",
     "text": [
      "C:\\Users\\hmaca\\anaconda3\\lib\\site-packages\\sklearn\\utils\\validation.py:70: FutureWarning: Pass threshold=0.1 as keyword args. From version 1.0 (renaming of 0.25) passing these as positional arguments will result in an error\n",
      "  warnings.warn(f\"Pass {args_msg} as keyword args. From version \"\n",
      "C:\\Users\\hmaca\\anaconda3\\lib\\site-packages\\sklearn\\utils\\validation.py:70: FutureWarning: Pass threshold=0.2 as keyword args. From version 1.0 (renaming of 0.25) passing these as positional arguments will result in an error\n",
      "  warnings.warn(f\"Pass {args_msg} as keyword args. From version \"\n",
      "C:\\Users\\hmaca\\anaconda3\\lib\\site-packages\\sklearn\\utils\\validation.py:70: FutureWarning: Pass threshold=0.3 as keyword args. From version 1.0 (renaming of 0.25) passing these as positional arguments will result in an error\n",
      "  warnings.warn(f\"Pass {args_msg} as keyword args. From version \"\n",
      "C:\\Users\\hmaca\\anaconda3\\lib\\site-packages\\sklearn\\utils\\validation.py:70: FutureWarning: Pass threshold=0.4 as keyword args. From version 1.0 (renaming of 0.25) passing these as positional arguments will result in an error\n",
      "  warnings.warn(f\"Pass {args_msg} as keyword args. From version \"\n",
      "C:\\Users\\hmaca\\anaconda3\\lib\\site-packages\\sklearn\\utils\\validation.py:70: FutureWarning: Pass threshold=0.5 as keyword args. From version 1.0 (renaming of 0.25) passing these as positional arguments will result in an error\n",
      "  warnings.warn(f\"Pass {args_msg} as keyword args. From version \"\n",
      "C:\\Users\\hmaca\\anaconda3\\lib\\site-packages\\sklearn\\utils\\validation.py:70: FutureWarning: Pass threshold=0.6 as keyword args. From version 1.0 (renaming of 0.25) passing these as positional arguments will result in an error\n",
      "  warnings.warn(f\"Pass {args_msg} as keyword args. From version \"\n",
      "C:\\Users\\hmaca\\anaconda3\\lib\\site-packages\\sklearn\\utils\\validation.py:70: FutureWarning: Pass threshold=0.7 as keyword args. From version 1.0 (renaming of 0.25) passing these as positional arguments will result in an error\n",
      "  warnings.warn(f\"Pass {args_msg} as keyword args. From version \"\n",
      "C:\\Users\\hmaca\\anaconda3\\lib\\site-packages\\sklearn\\utils\\validation.py:70: FutureWarning: Pass threshold=0.8 as keyword args. From version 1.0 (renaming of 0.25) passing these as positional arguments will result in an error\n",
      "  warnings.warn(f\"Pass {args_msg} as keyword args. From version \"\n",
      "C:\\Users\\hmaca\\anaconda3\\lib\\site-packages\\sklearn\\utils\\validation.py:70: FutureWarning: Pass threshold=0.9 as keyword args. From version 1.0 (renaming of 0.25) passing these as positional arguments will result in an error\n",
      "  warnings.warn(f\"Pass {args_msg} as keyword args. From version \"\n"
     ]
    }
   ],
   "source": [
    "\n",
    "from sklearn.preprocessing import binarize\n",
    "\n",
    "for i in range(1,10):\n",
    "    \n",
    "    cm1=0\n",
    "    \n",
    "    y_pred1 = clf.predict_proba(X_test)[:,1]\n",
    "    \n",
    "    y_pred1 = y_pred1.reshape(-1,1)\n",
    "    \n",
    "    y_pred2 = binarize(y_pred1, i/10)\n",
    "    \n",
    "    cm1 = confusion_matrix(y_test, y_pred2)\n",
    "\n",
    "    TP = cm1[0,0]\n",
    "    TN = cm1[1,1]\n",
    "    FP = cm1[0,1]\n",
    "    FN = cm1[1,0]\n",
    "    y_pred2 = np.where(y_pred2 == 1, 'Yes', 'No')\n",
    "   \n",
    "    pred_threshold = pred_threshold.append({'Threshold':i,\n",
    "                               'Correct_Predictions':TP+FP,\n",
    "                               'FP':FP,\n",
    "                               'FN':FN,\n",
    "                               'Precision':TP/(TP+FP),\n",
    "                               'Recall':TP/(TP+FN)}, ignore_index=True)"
   ]
  },
  {
   "cell_type": "code",
   "execution_count": 36,
   "id": "75578e63",
   "metadata": {},
   "outputs": [
    {
     "data": {
      "text/html": [
       "<div>\n",
       "<style scoped>\n",
       "    .dataframe tbody tr th:only-of-type {\n",
       "        vertical-align: middle;\n",
       "    }\n",
       "\n",
       "    .dataframe tbody tr th {\n",
       "        vertical-align: top;\n",
       "    }\n",
       "\n",
       "    .dataframe thead th {\n",
       "        text-align: right;\n",
       "    }\n",
       "</style>\n",
       "<table border=\"1\" class=\"dataframe\">\n",
       "  <thead>\n",
       "    <tr style=\"text-align: right;\">\n",
       "      <th></th>\n",
       "      <th>Threshold</th>\n",
       "      <th>Correct_Predictions</th>\n",
       "      <th>FP</th>\n",
       "      <th>FN</th>\n",
       "      <th>Precision</th>\n",
       "      <th>Recall</th>\n",
       "    </tr>\n",
       "  </thead>\n",
       "  <tbody>\n",
       "    <tr>\n",
       "      <th>0</th>\n",
       "      <td>1.0</td>\n",
       "      <td>9274.0</td>\n",
       "      <td>1241.0</td>\n",
       "      <td>169.0</td>\n",
       "      <td>0.866185</td>\n",
       "      <td>0.979395</td>\n",
       "    </tr>\n",
       "    <tr>\n",
       "      <th>1</th>\n",
       "      <td>2.0</td>\n",
       "      <td>9274.0</td>\n",
       "      <td>501.0</td>\n",
       "      <td>291.0</td>\n",
       "      <td>0.945978</td>\n",
       "      <td>0.967895</td>\n",
       "    </tr>\n",
       "    <tr>\n",
       "      <th>2</th>\n",
       "      <td>3.0</td>\n",
       "      <td>9274.0</td>\n",
       "      <td>254.0</td>\n",
       "      <td>381.0</td>\n",
       "      <td>0.972612</td>\n",
       "      <td>0.959472</td>\n",
       "    </tr>\n",
       "    <tr>\n",
       "      <th>3</th>\n",
       "      <td>4.0</td>\n",
       "      <td>9274.0</td>\n",
       "      <td>131.0</td>\n",
       "      <td>450.0</td>\n",
       "      <td>0.985874</td>\n",
       "      <td>0.953091</td>\n",
       "    </tr>\n",
       "    <tr>\n",
       "      <th>4</th>\n",
       "      <td>5.0</td>\n",
       "      <td>9274.0</td>\n",
       "      <td>75.0</td>\n",
       "      <td>493.0</td>\n",
       "      <td>0.991913</td>\n",
       "      <td>0.949133</td>\n",
       "    </tr>\n",
       "    <tr>\n",
       "      <th>5</th>\n",
       "      <td>6.0</td>\n",
       "      <td>9274.0</td>\n",
       "      <td>35.0</td>\n",
       "      <td>544.0</td>\n",
       "      <td>0.996226</td>\n",
       "      <td>0.944393</td>\n",
       "    </tr>\n",
       "    <tr>\n",
       "      <th>6</th>\n",
       "      <td>7.0</td>\n",
       "      <td>9274.0</td>\n",
       "      <td>17.0</td>\n",
       "      <td>582.0</td>\n",
       "      <td>0.998167</td>\n",
       "      <td>0.940848</td>\n",
       "    </tr>\n",
       "    <tr>\n",
       "      <th>7</th>\n",
       "      <td>8.0</td>\n",
       "      <td>9274.0</td>\n",
       "      <td>8.0</td>\n",
       "      <td>610.0</td>\n",
       "      <td>0.999137</td>\n",
       "      <td>0.938234</td>\n",
       "    </tr>\n",
       "    <tr>\n",
       "      <th>8</th>\n",
       "      <td>9.0</td>\n",
       "      <td>9274.0</td>\n",
       "      <td>3.0</td>\n",
       "      <td>632.0</td>\n",
       "      <td>0.999677</td>\n",
       "      <td>0.936181</td>\n",
       "    </tr>\n",
       "  </tbody>\n",
       "</table>\n",
       "</div>"
      ],
      "text/plain": [
       "   Threshold  Correct_Predictions      FP     FN  Precision    Recall\n",
       "0        1.0               9274.0  1241.0  169.0   0.866185  0.979395\n",
       "1        2.0               9274.0   501.0  291.0   0.945978  0.967895\n",
       "2        3.0               9274.0   254.0  381.0   0.972612  0.959472\n",
       "3        4.0               9274.0   131.0  450.0   0.985874  0.953091\n",
       "4        5.0               9274.0    75.0  493.0   0.991913  0.949133\n",
       "5        6.0               9274.0    35.0  544.0   0.996226  0.944393\n",
       "6        7.0               9274.0    17.0  582.0   0.998167  0.940848\n",
       "7        8.0               9274.0     8.0  610.0   0.999137  0.938234\n",
       "8        9.0               9274.0     3.0  632.0   0.999677  0.936181"
      ]
     },
     "execution_count": 36,
     "metadata": {},
     "output_type": "execute_result"
    }
   ],
   "source": [
    "pred_threshold"
   ]
  },
  {
   "cell_type": "code",
   "execution_count": 37,
   "id": "1a986200",
   "metadata": {},
   "outputs": [
    {
     "data": {
      "image/png": "[encoded data removed]",
      "text/plain": [
       "<Figure size 432x288 with 1 Axes>"
      ]
     },
     "metadata": {
      "needs_background": "light"
     },
     "output_type": "display_data"
    }
   ],
   "source": [
    "# ROC Curve plotting and finding AUC value\n",
    "from sklearn.metrics import roc_curve\n",
    "\n",
    "fpr, tpr, thresholds = roc_curve( y_test, y_pred1)\n",
    "\n",
    "\n",
    "plt.figure(figsize=(6,4))\n",
    "plt.plot(fpr, tpr, linewidth=2)\n",
    "\n",
    "plt.plot([0,1], [0,1], 'k--' )\n",
    "\n",
    "plt.rcParams['font.size'] = 12\n",
    "plt.title('ROC curve for subscribed a term deposit classifier')\n",
    "plt.xlabel('False Positive Rate (1 - Specificity)')\n",
    "plt.ylabel('True Positive Rate (Sensitivity)')\n",
    "\n",
    "plt.show()"
   ]
  },
  {
   "cell_type": "code",
   "execution_count": 38,
   "id": "bd7d01e7",
   "metadata": {},
   "outputs": [
    {
     "data": {
      "text/plain": [
       "0.8854930768113553"
      ]
     },
     "execution_count": 38,
     "metadata": {},
     "output_type": "execute_result"
    }
   ],
   "source": [
    "from sklearn.metrics import roc_auc_score\n",
    "\n",
    "auc = roc_auc_score(y_test, y_pred1)\n",
    "auc"
   ]
  },
  {
   "cell_type": "markdown",
   "id": "029fcac6",
   "metadata": {},
   "source": [
    "### Conclusions\n",
    "The logistic regression model accuracy score is 0.8854. So, the model does a very good job in predicting Whether the client has subscribed a term deposit or not \n",
    "\n",
    "The model shows no signs of overfitting.\n",
    "\n",
    "ROC AUC of our model is reasonably high. So, we can conclude that our classifier does a good job in predicting Whether the client has subscribed a term deposit or not "
   ]
  }
 ],
 "metadata": {
  "kernelspec": {
   "display_name": "Python 3 (ipykernel)",
   "language": "python",
   "name": "python3"
  },
  "language_info": {
   "codemirror_mode": {
    "name": "ipython",
    "version": 3
   },
   "file_extension": ".py",
   "mimetype": "text/x-python",
   "name": "python",
   "nbconvert_exporter": "python",
   "pygments_lexer": "ipython3",
   "version": "3.9.7"
  }
 },
 "nbformat": 4,
 "nbformat_minor": 5
}
